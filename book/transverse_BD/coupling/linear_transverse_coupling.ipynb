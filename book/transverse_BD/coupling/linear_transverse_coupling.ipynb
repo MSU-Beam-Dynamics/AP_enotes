{
 "cells": [
  {
   "cell_type": "markdown",
   "metadata": {},
   "source": [
    "# Linear Coupling"
   ]
  },
  {
   "cell_type": "markdown",
   "metadata": {},
   "source": [
    "## Elements that induce coupling"
   ]
  },
  {
   "cell_type": "markdown",
   "metadata": {},
   "source": [
    "Both Skew quadrupole and solenoid bring linear coupling to the two transverse plane. Solenoid is wildly used in low energy injector while skew quadrupole is used for high energy applications. "
   ]
  },
  {
   "cell_type": "markdown",
   "metadata": {},
   "source": [
    "###  Skew quadrupole error"
   ]
  },
  {
   "cell_type": "markdown",
   "metadata": {},
   "source": [
    "For the skew quadrupole, the field reads:\n",
    "\\begin{align}\n",
    "\\Delta B_y+i\\Delta B_x &= B_0 \\Delta a_1 \\left(-y+ix\\right)\n",
    "\\end{align}\n",
    "\n",
    "that can be derived from the vector potential:\n",
    "\\begin{align}\n",
    "\\Delta A_s &= B_0 \\Delta a_1 xy\n",
    "\\end{align}\n",
    "\n",
    "The corresponding Hamiltonian becomes:\n",
    "\\begin{align}\n",
    "H=\\frac{p_x^2}{2}+\\frac{p_y^2}{2}+\\left(\\frac{1}{2\\rho^2}+\\frac{k(s)}{2} \\right) x^2-\\frac{k(s)}{2}y^2 - \\frac{B_0 \\Delta a_1}{B\\rho} xy\n",
    "\\end{align}\n",
    "\n",
    "\n",
    "The Hills equation becomes:\n",
    "\n",
    ":::{math}\n",
    ":label: eq:coupling:HillEqSQ\n",
    "\\begin{align} %%\\label{eq:HillEqSQ}\n",
    "x''+\\left(\\frac{1}{\\rho^2}+k(s)\\right)x&= \\frac{B_0 \\Delta a_1}{B\\rho} y \\equiv k_s y\\\\\n",
    "y''-k(s)y&=\\frac{B_0 \\Delta a_1}{B\\rho}x \\equiv k_s x\n",
    "\\end{align}\n",
    ":::\n",
    "\n",
    "where $k_s=\\frac{B_0 \\Delta a_1}{B\\rho}$ is the strenght of skew quadrupole.\n"
   ]
  },
  {
   "cell_type": "markdown",
   "metadata": {},
   "source": [
    "Inside the skew quad, where the normal quad and dipole terms vanish, the diffential equation becomes:\n",
    "\n",
    "\\begin{align}\n",
    "x''&=k_s y\\\\\n",
    "y''&=k_s x\n",
    "\\end{align}\n",
    "\n",
    "By defining coupled variable $u$ and $v$, \n",
    "\n",
    "\\begin{align}\n",
    "u''&=x''+y''=k_s(x+y)=k_su\\\\\n",
    "v''&=x''-y''=k_s(y-x)=-k_sv\n",
    "\\end{align}\n",
    "\n",
    "the dynamics becomes decoupled.\n",
    "\n",
    "In a thin length approximation $$f_s=\\lim_{l\\to 0}\\frac{1}{k_s l}$$\n",
    "The matrix of a skew quadrupole simply reads as:\n",
    "\\begin{equation}\n",
    "M_{sq}=\\left[\\begin{array}{cccc}\n",
    "1 & 0 & 0 & 0\\\\\n",
    "0 & 1 & 1/f_{s} & 0\\\\\n",
    "0 & 0 & 1 & 0\\\\\n",
    "1/f_{s} & 0 & 0 & 1\n",
    "\\end{array}\\right]\n",
    "\\end{equation}\n",
    "\n"
   ]
  },
  {
   "cell_type": "markdown",
   "metadata": {},
   "source": [
    "```{note}\n",
    "As we know that the skew quadrupole can be understood as the $\\pi/4$ rotation of a normal quadrupole, we can get a matrix of normal quad by \n",
    "\n",
    "$$M_{quad} = R(\\pi/4)M_{sq}R(-\\pi/4)$$ \n",
    "```"
   ]
  },
  {
   "cell_type": "code",
   "execution_count": null,
   "metadata": {},
   "outputs": [],
   "source": [
    "import sympy as sp\n",
    "from sympy.physics.quantum import TensorProduct\n",
    "fs=sp.symbols(\"f_s\")\n",
    "Msq=sp.eye(4)\n",
    "Msq[1,2]=1/fs; Msq[3,0]=1/fs\n",
    "\n",
    "rotang=sp.symbols(r\"\\theta\")\n",
    "rot2d=sp.Matrix([[sp.cos(rotang), -sp.sin(rotang)],[sp.sin(rotang), sp.cos(rotang)]])\n",
    "rot4d=TensorProduct(rot2d, sp.eye(2))\n",
    "rotMsq=sp.simplify(rot4d.subs(rotang, -rotang)*Msq*rot4d)\n",
    "rotMsq.subs(rotang, -sp.pi/4)"
   ]
  },
  {
   "cell_type": "markdown",
   "metadata": {},
   "source": [
    "### Solenoid"
   ]
  },
  {
   "cell_type": "markdown",
   "metadata": {},
   "source": [
    "For a solenoid error $B_z$ along the z direction, the treatment for transverse fields has to be modified. "
   ]
  },
  {
   "cell_type": "markdown",
   "metadata": {},
   "source": [
    " For the hard edge model of a solenoid of length $L$, centered at $s_0$:\n",
    "\\begin{align}\n",
    "B_{z}(s)&=\\begin{cases}\n",
    "B_{0} & \\left|s-s_{0}\\right|\\le L/2\\\\\n",
    "0 & \\left|s-s_{0}\\right|>L/2\n",
    "\\end{cases}\n",
    "\\\\\n",
    "&=B_0 H\\left(\\frac{L}{2}-\\left|s\\right|\\right)\n",
    "\\end{align}\n",
    "Here, $H\\left(\\cdot\\right)$ is the Heaviside Step Function.\n",
    "The vector potential is \n",
    "\\begin{align}\n",
    "\\mathbf A=\\left(-\\frac{B_z y}{2}, \\frac{ B_z x}{2},0\\right)\n",
    "\\end{align}\n",
    "\n",
    "It is worthwhile to note that this approximation does not satisfy the Maxwell equation at the edge.  To satisfy Maxwell equation in vacuum chamber (no currents), both $\\nabla\\cdot\\mathbf{B}=0$ and $\\nabla\\times\\mathbf{B}=0$.  The vector potential must have be function of transverse coordinates $r$, due to axial symmetric property of solenoid.  Let $\\mathbf{A}=\\left(-f(r^2,z)\\cdot y, f(r^2,z)\\cdot x, 0\\right)$ then the function $f(w,v)$ has to satisfy:\n",
    "\n",
    "$$\n",
    "8f'_w(w,v)+4wf''_{w,w}(w,v)+f''_{v,v}(w,v)=0\n",
    "$$\n",
    "\n",
    "We may expand the $f\\left(r^2, z\\right)$ as Taylor series of r^2 with the coeffecients as function of $z$:\n",
    "$$\n",
    "f\\left(r^2, z\\right)=\\sum_{k=0}^{\\infty}\\frac{C_k(z)}{2(k+1)}r^{2k}\n",
    "$$\n",
    "\n",
    "with the field calculate by: \n",
    "\\begin{align}\n",
    "B_x&=-x\\sum_{k=0}^{\\infty}\\frac{C'_k(z)}{2(k+1)}r^{2k}\\\\\n",
    "B_y&=-y\\sum_{k=0}^{\\infty}\\frac{C'_k(z)}{2(k+1)}r^{2k}\\\\\n",
    "B_z&=\\sum_{k=0}^{\\infty}C_k(z)r^{2k}\n",
    "\\end{align}\n",
    "\n",
    "with the coefficient satisfying the iterating relation\n",
    "$$\n",
    "C_{k+1}=-\\frac{C''_k}{4(k+1)^2}\n",
    "$$\n",
    "\n",
    "Therefore, any truncation will break the requirement of Maxwell equation.\n",
    "\n"
   ]
  },
  {
   "cell_type": "markdown",
   "metadata": {},
   "source": [
    "\n",
    "\n",
    "With the following approximations,\n",
    "* Paraxial approximation\n",
    "* Exact energy, i.e. \n",
    "The Hamiltonian gives:\n",
    "\n",
    "\\begin{align}\n",
    "H&=\\frac{1}{2}\\left(\\pi_x-\\frac{e}{p_0}A_x\\right)^2+\\frac{1}{2}\\left(\\pi_y-\\frac{e}{p_0}A_y\\right)^2 \\\\\n",
    "&=\\frac{1}{2}\\left(\\pi_x+g(s)y\\right)^2+\\frac{1}{2}\\left(\\pi_y-g(s)x\\right)^2\n",
    "\\end{align}\n",
    "\n",
    "Here, we have defined the normalized solenoide field \n",
    "\n",
    "$$g(s)=g_sH\\left(\\frac{L}{2}-\\left|s\\right|\\right)$$ \n",
    "\n",
    "and solenoid strength $g_s$: \n",
    "\n",
    "$$g_s=\\frac{eB_0}{2p_0}$$\n",
    "\n",
    "Hamiltonian equation gives:\n",
    "\n",
    "\\begin{align}\n",
    "\\frac{dx}{ds}&=\\frac{\\partial H}{\\partial \\pi_x}=\\pi_x+g(s)y\\equiv x'\\\\\n",
    "\\frac{dy}{ds}&=\\frac{\\partial H}{\\partial \\pi_y}=\\pi_y-g(s)x\\equiv y'\\\\\n",
    "\\frac{d\\pi_x}{ds}&=-\\frac{\\partial H}{\\partial x}=g(s)p_y\\\\\n",
    "\\frac{d\\pi_y}{ds}&=-\\frac{\\partial H}{\\partial y}=-g(s)p_x\n",
    "\\end{align}\n",
    "\n",
    "Or, we can explicitly write the equation for the particle's transverse momentum :\n",
    "\n",
    ":::{math}\n",
    ":label: eq:coupling:eomsol\n",
    "\\begin{align}\n",
    "\\frac{dx}{ds}&=x' \\\\\n",
    "\\frac{dx'}{ds}&=2g(s)y'+g'(s)y \\\\\n",
    "\\frac{dy}{ds}&=y' \\\\\n",
    "\\frac{dy'}{ds}&=-2g(s)x'-g'(s)x %%\\label{eq:eomsol2}\n",
    "\\end{align}\n",
    ":::\n",
    "\n",
    "\n",
    "\n"
   ]
  },
  {
   "cell_type": "markdown",
   "metadata": {},
   "source": [
    "A common trick of the solving {eq}`eq:coupling:eomsol` is to define a complex variable $w=x+iy$, and its derivative with respect to $s$: $w' = x' + i y'$.  The equation of motion becomes \n",
    "\n",
    "\n",
    ":::{math}\n",
    ":label: eq:coupling:eomsol_w\n",
    "\\begin{align}\n",
    "\\frac{dw}{ds}&=w'\\\\\n",
    "\\frac{dw'}{ds}&=-2ig(s)w'-ig'(s)w %%\\label{eq:eomsol_w}\n",
    "\\end{align}\n",
    ":::\n",
    "\n",
    "The first term on the right-hand side of {eq}`eq:coupling:eomsol_w` indicates an oscillation of the complex variable $w$.  It hints us to separate the rotation part of the motion by defining:\n",
    "\n",
    "\\begin{align}\n",
    "w(s)\\equiv \\tilde{w}(s)e^{i\\theta(s)}\n",
    "\\end{align}\n",
    "\n",
    "Therefore:\n",
    "\n",
    ":::{math}\n",
    ":label: eq:coupling:form_1\n",
    "\\begin{align}\n",
    "w'(s)&= i\\tilde{w}(s)e^{i\\theta(s)}\\theta '(s)+\\tilde{w}'(s)e^{i\\theta(s)}\\\\\n",
    "w''(s)&= i\\tilde{w}(s)e^{i\\theta(s)}\\theta ''(s)- \\tilde{w}(s)e^{i\\theta(s)}\\theta '^2(s)+2i \\tilde{w}'(s)e^{i\\theta(s)}\\theta '(s)+\\tilde{w}''(s)e^{i\\theta(s)}  %%\\label{eq:form_1}\n",
    "\\end{align}\n",
    ":::\n",
    "\n",
    "On the other hand, from {eq}`eq:coupling:eomsol_w` \n",
    "\n",
    ":::{math}\n",
    ":label: eq:coupling:form_2\n",
    "\\begin{align}\n",
    "\\frac{dw'}{ds}&=-2ig(s)w'-ig'(s)w \\\\\n",
    "&=-2ig(s)\\left(i\\tilde{w}(s)e^{i\\theta(s)}\\theta '(s)+\\tilde{w}'(s)e^{i\\theta(s)}\\right)-ig'(s)\\tilde{w}(s)e^{i\\theta(s)}  %%\\label{eq:form_2}\n",
    "\\end{align}\n",
    ":::\n",
    "\n",
    "With trying to match Eq. {eq}`eq:coupling:form_1` and Eq. {eq}`eq:coupling:form_2`, we can propose $\\theta(s)=-\\int_{-\\infty}^s g(s')ds'$ .  Eq. {eq}`eq:coupling:form_1` and Eq. {eq}`eq:coupling:form_2` requires:   \n",
    "\n",
    "\\begin{align}\n",
    "-i\\tilde{w}(s)e^{i\\theta(s)}g'(s)- &\\tilde{w}(s)e^{i\\theta(s)}g^2(s)-2i \\tilde{w}'(s)e^{i\\theta(s)}g(s)+\\tilde{w}''(s)e^{i\\theta(s)} = \\\\\n",
    "&-2ig(s)\\left(-i\\tilde{w}(s)e^{i\\theta(s)}g(s)+\\tilde{w}'(s)e^{i\\theta(s)}\\right)-ig'(s)\\tilde{w}(s)e^{i\\theta(s)}\n",
    "\\end{align}\n",
    "\n",
    "which can be simplified to \n",
    "\n",
    "\\begin{align}\n",
    "\\tilde{w}''(s)+g^2(s)\\tilde{w}(s)=0\n",
    "\\end{align}"
   ]
  },
  {
   "cell_type": "markdown",
   "metadata": {},
   "source": [
    "Therefore the dynamics under a solenoid field can be viewed, in an rotation frame with angle $\\theta(s)=-\\int_{-\\infty}^s g(s')ds'$, to be a focusing element of both directions, with strength $g^2(s)$.\n",
    "\n",
    "Combining the focusing effect and the rotation, we have the transfer matrix for a constant-field hard-edge solenoid with length l and solenoid rotation angle $\\theta_s=gl$:\n",
    "\n",
    "\\begin{align}\n",
    "M_{sol}&=\n",
    "\\left[\\begin{matrix}\n",
    "\\cos{\\left(\\theta_{s} \\right)} & 0 & - \\sin{\\left(\\theta_{s} \\right)} & 0\\\\\n",
    "0 & \\cos{\\left(\\theta_{s} \\right)} & 0 & - \\sin{\\left(\\theta_{s} \\right)}\\\\ \n",
    "\\sin{\\left(\\theta_{s} \\right)} & 0 & \\cos{\\left(\\theta_{s} \\right)} & 0\n",
    "\\\\0 & \\sin{\\left(\\theta_{s} \\right)} & 0 & \\cos{\\left(\\theta_{s} \\right)}\n",
    "\\end{matrix}\\right]\n",
    "\\left[\\begin{matrix}\n",
    "\\cos{\\left(\\theta_{s} \\right)} & \\frac{\\sin{\\left(\\theta_{s} \\right)}}{g_{s}} & 0 & 0\\\\\n",
    "- g_{s} \\sin{\\left(\\theta_{s} \\right)} & \\cos{\\left(\\theta_{s} \\right)} & 0 & 0\\\\\n",
    "0 & 0 & \\cos{\\left(\\theta_{s} \\right)} & \\frac{\\sin{\\left(\\theta_{s} \\right)}}{g_{s}}\\\\\n",
    "0 & 0 & - g_{s} \\sin{\\left(\\theta_{s} \\right)} & \\cos{\\left(\\theta_{s} \\right)}\n",
    "\\end{matrix}\\right]\\\\\n",
    "&=\\left[\\begin{matrix}\\cos^{2}{\\left(\\theta_{s} \\right)} & \\frac{\\sin{\\left(2 \\theta_{s} \\right)}}{2 g_{s}} & - \\frac{\\sin{\\left(2 \\theta_{s} \\right)}}{2} & \\frac{\\cos{\\left(2 \\theta_{s} \\right)} - 1}{2 g_{s}}\\\\- \\frac{g_{s} \\sin{\\left(2 \\theta_{s} \\right)}}{2} & \\cos^{2}{\\left(\\theta_{s} \\right)} & \\frac{g_{s} \\left(1 - \\cos{\\left(2 \\theta_{s} \\right)}\\right)}{2} & - \\frac{\\sin{\\left(2 \\theta_{s} \\right)}}{2}\\\\\\frac{\\sin{\\left(2 \\theta_{s} \\right)}}{2} & \\frac{1 - \\cos{\\left(2 \\theta_{s} \\right)}}{2 g_{s}} & \\cos^{2}{\\left(\\theta_{s} \\right)} & \\frac{\\sin{\\left(2 \\theta_{s} \\right)}}{2 g_{s}}\\\\\\frac{g_{s} \\left(\\cos{\\left(2 \\theta_{s} \\right)} - 1\\right)}{2} & \\frac{\\sin{\\left(2 \\theta_{s} \\right)}}{2} & - \\frac{g_{s} \\sin{\\left(2 \\theta_{s} \\right)}}{2} & \\cos^{2}{\\left(\\theta_{s} \\right)}\\end{matrix}\\right]\n",
    "\\end{align}\n"
   ]
  },
  {
   "cell_type": "markdown",
   "metadata": {},
   "source": [
    "##  Linear Coupling Resonance In a Ring"
   ]
  },
  {
   "cell_type": "markdown",
   "metadata": {},
   "source": [
    "### Hamiltonian approach"
   ]
  },
  {
   "cell_type": "markdown",
   "metadata": {},
   "source": [
    "We can now combine our discussion of perturbation of linear coupling resonance on the hill's equation with the regular linear terms.  From Eq. {eq}`eq:coupling:HillEqSQ` and Eq. {eq}`eq:coupling:eomsol`\n",
    "\n",
    "\\begin{align}\n",
    "&x''+\\left(\\frac{1}{\\rho^2}+k(s)\\right)x= k_s y + 2gy'+g'y\\\\\n",
    "&y''-k(s)y= k_s x- 2gx'-g'x\n",
    "\\end{align}\n",
    "which is derived from the Hamiltonian:\n",
    "\n",
    ":::{math}\n",
    ":label: eq:coupling:lc_h\n",
    "\\begin{equation}  %%\\label{eq:lc_h}\n",
    "H=\\frac{1}{2}\\left(\\pi_x^2+\\pi_y^2+K_x x^2+K_y y^2+g^2\\left(x^2+y^2\\right)\\right)-k_sxy+\\pi_xgy-\\pi_ygx\n",
    "\\end{equation}\n",
    ":::\n",
    "\n",
    "The first part is the unperturbed terms, contains the focusing from the normal quad, dipole and the focusing effect of the solenoid, the rest is the linear coupling potential.\n",
    "\n",
    ":::{math}\n",
    ":label: eq:coupling:coupling_potential\n",
    "\\begin{equation}  %%\\label{eq:coupling_potential}\n",
    "V_{lc}(x,y)=-k_sxy+\\pi_xgy-\\pi_ygx\n",
    "\\end{equation}\n",
    ":::\n",
    "\n"
   ]
  },
  {
   "cell_type": "markdown",
   "metadata": {},
   "source": [
    "Using Floquet transformation, the 'coupling potential' can be expressed by the action-angle $(J_{x/y}, \\psi_{x/y})$ variable and expanded with Fourier transfromation with respect to the independent variable $\\theta=s/R$:\n",
    "\n",
    ":::{math}\n",
    ":label: eq:coupling:floquet\n",
    "\\begin{align} %%\\label{eq:floquet}\n",
    "J_{x}&=\\frac{1}{2\\beta_x}\\left[x^2+\\left(\\beta_x x'+\\alpha_x x\\right)^2\\right]\\\\\n",
    "\\phi_x&=\\psi_x - \\int_0^s\\frac{ds'}{\\beta(s')} + \\nu_x \\theta\n",
    "\\end{align}\n",
    ":::\n",
    "\n",
    "and similar treats applies to vertical direction.\n",
    "\n",
    "Then inverse transformation can be used to replace the $(x,\\pi_x,y,\\pi_y)$ in the potential.  Then, consider the potential is a periodic funtion of the independent variable $\\theta$, we can expand it as Fourier series:\n",
    "\n",
    "\n",
    ":::{math}\n",
    ":label: eq:coupling:coupling_potential_fourier\n",
    "\\begin{equation}  %%\\label{eq:coupling_potential_fourier}\n",
    "V_{lc}(\\theta)=\\sqrt{J_x J_y}\\sum_l \\left(G_{1,-1,l}e^{-i\\left(\\phi_x-\\phi_y-l\\theta+\\chi_-\\right)}+G_{1,1,l}e^{-i\\left(\\phi_x+\\phi_y-l\\theta+\\chi_+\\right)}+\\text{c.c.}\\right)\n",
    "\\end{equation}\n",
    ":::\n",
    "\n",
    "|Resonances             | Name| Constant|\n",
    "|----------             |-----|---------|\n",
    "|$\\nu_x-\\nu_y=l$        |Diff. Resonance| $J_x+J_y$ |\n",
    "|$\\nu_x+\\nu_y=l$        |Sum Resonance| $J_x-J_y$ |\n",
    "\n",
    "Depend on the choice of the tune, one resonance may dominate over the other.  The potential can also be approximated by the corresponding term.  By changing the varible of introducing the new phase of the resonance phase, we can prove that the sum or difference of the action of two planes remains constant."
   ]
  },
  {
   "cell_type": "code",
   "execution_count": null,
   "metadata": {
    "tags": [
     "hide-input"
    ]
   },
   "outputs": [],
   "source": [
    "from map2D import map2D\n",
    "import numpy as np\n",
    "import matplotlib.pyplot as plt\n",
    "#from matplotlib import animation\n",
    "#from IPython.display import HTML\n",
    "%matplotlib widget\n",
    "\n",
    "tunex=0.223\n",
    "dtune=0.005\n",
    "tuney= 1-tunex+dtune # Sum resonance\n",
    "#tuney= tunex+dtune  # Diff resonance\n",
    "\n",
    "pxs=0.0015*np.arange(5)\n",
    "pxps=np.zeros_like(pxs)\n",
    "#pxs=0.005*np.cos(np.linspace(0,np.pi, 10))\n",
    "#pxps=0.005*np.sin(np.linspace(0,np.pi, 10))\n",
    "\n",
    "particles=np.vstack([pxs,pxps])\n",
    "xpx=map2D(npart=10, twiss=[1,0], twiss_beam=[1,0], tune=tunex, chrom=0.0, espr=0.0,\n",
    "                  particles=particles)\n",
    "\n",
    "pys=0.002*np.ones(5)\n",
    "pyps=np.zeros_like(pys)\n",
    "particles=np.vstack([pys,pyps])\n",
    "ypy=map2D(npart=len(pxs), twiss=[1,0], twiss_beam=[1,0],tune=tuney, chrom=0.0, espr=0.0,\n",
    "          particles=particles, emit=0.1e-6)\n",
    "\n",
    "avex,avep,sizex,sizep,emit=xpx.statistics()\n",
    "emitlist=[]\n",
    "sizelist=[]\n",
    "avelist=[]\n",
    "N_turn=5000\n",
    "\n",
    "\n",
    "def evolve_func(turns, kick_turn_start=0, ks=-0.01,\n",
    "               ):\n",
    "    for i in range(turns):\n",
    "        if i>=kick_turn_start:\n",
    "            xpx.coor2D[1,:]+=ks*ypy.coor2D[0,:]\n",
    "            ypy.coor2D[1,:]+=ks*xpx.coor2D[0,:]\n",
    "        \n",
    "        xpx.propagate()\n",
    "        ypy.propagate()\n",
    "        \n",
    "        #avex,avep,sizex,sizep,emit=xpx.statistics()\n",
    "        #avelist.append(avex)\n",
    "        #sizelist.append(sizex)\n",
    "        #emitlist.append(emit)\n",
    "        yield xpx.coor2D, ypy.coor2D\n",
    "        \n",
    "evolve=evolve_func(N_turn+2)\n",
    "    \n",
    "fig,(ax, ax1)=plt.subplots(1, 2, figsize=(8,4))\n",
    "ax.set_xlim([-0.01,0.01])\n",
    "ax.set_ylim([-0.01,0.01])\n",
    "xlist=[]\n",
    "xplist=[]\n",
    "ylist=[]\n",
    "yplist=[]\n",
    "\n",
    "\n",
    "for i in range(N_turn):\n",
    "    arrx, arry=next(evolve)\n",
    "    #if np.max(arr)>1: break\n",
    "    xlist.append(arrx[0])\n",
    "    xplist.append(arrx[1])\n",
    "    ylist.append(arry[0])\n",
    "    yplist.append(arry[1])\n",
    "xarr=np.vstack(xlist)\n",
    "xparr=np.vstack(xplist)\n",
    "yarr=np.vstack(ylist)\n",
    "yparr=np.vstack(yplist)\n",
    "ax.plot(xarr,xparr,linestyle='None', marker='.', markersize=1)\n",
    "ax.set_xlabel('x')\n",
    "ax.set_ylabel('px')\n",
    "axj=ax1.twinx()\n",
    "ax1.set_xlabel('Turns')\n",
    "axj.set_ylabel('Actions [mm.mrad]')\n",
    "Jx=xarr*xarr+xparr*xparr\n",
    "Jy=yarr*yarr+yparr*yparr\n",
    "for i in range(4):\n",
    "    axj.plot((Jx[:,i+1]+Jy[:,i+1])*1e6)\n"
   ]
  },
  {
   "cell_type": "markdown",
   "metadata": {},
   "source": [
    "### Matrix approach, Edward-Teng Parametrization"
   ]
  },
  {
   "cell_type": "markdown",
   "metadata": {},
   "source": [
    "All the linear elements, dipole, quads, skew quads and solinoids can be represented by the matrix and the one turn matrix can be found by multiplying them in order.  The final one-turn matrix should have a general $4\\times 4$ matrix in the block matrix form:\n",
    "\n",
    "\\begin{equation}\n",
    "M=\\left(\\begin{array}{cc}\n",
    "A & B\\\\\n",
    "C & D\n",
    "\\end{array}\\right)\n",
    "\\end{equation}\n"
   ]
  },
  {
   "cell_type": "markdown",
   "metadata": {},
   "source": [
    "The symplectic matrix M has 10 free parameters since the symplectic condition provides 6 constrains which can be written as:\n",
    "\n",
    ":::{math}\n",
    ":label: eq:coupling:symplectic4_det\n",
    "\\begin{align}\n",
    "\\det A  = \\det D &\\equiv a \\\\\n",
    "\\det B = \\det C &\\equiv b   \\\\\n",
    "a+b&=1   %%\\label{symplectic4_det3}\n",
    "\\end{align}\n",
    ":::\n",
    "\n",
    "and\n",
    "\n",
    "\n",
    ":::{math}\n",
    ":label: eq:coupling:symplectic4_cross\n",
    "\\begin{align}\n",
    "\\bar{A}B+\\bar{C}D=0  \\\\\n",
    "A\\bar{C}+B\\bar{D}=0 %%\\label{symplectic4_cross2} \n",
    "\\end{align}\n",
    ":::\n",
    "\n",
    "Here the notation $\\bar{A}$ of matrix $A$ is the symplectic conjugate $-SA^TS$. Note that the relations in Eq. {eq}`eq:coupling:symplectic4_cross` are not independent and only contribute 3 constrains besides the constrains from the determinants.\n",
    "\n",
    "There are multiple ways to analyze the one-turn matrix. Among them, the Edward-Teng parametrization provides a clear physical interpretation. In this approach, a similarity transformation found from couple Matrix $M$ to an uncoupled matrix:\n",
    "\n",
    ":::{math}\n",
    ":label: eq:coupling:similarity_transformation\n",
    "\\begin{equation}\n",
    "U\\left(\\begin{array}{cc}\n",
    "A & B\\\\\n",
    "C & D\n",
    "\\end{array}\\right)U^{-1}=\n",
    "\\left(\\begin{array}{cc}\n",
    "M_x & 0\\\\\n",
    "0 & M_y\n",
    "\\end{array}\\right) %%\\label{similarity_transformation}\n",
    "\\end{equation}\n",
    ":::\n",
    "\n",
    "where $U$ is a symplectic matrix.\n"
   ]
  },
  {
   "cell_type": "markdown",
   "metadata": {},
   "source": [
    "Out of the 10 free parameter in coupled matrix $M$, the decoupled matrix $M_x$ and $M_y$ contributes 6 free parameter, therefore the simplest form of transformation $U$ need to have 4 free parameters.  Let $U$ have the following form:\n",
    "\\begin{equation}\n",
    "U=\\left(\\begin{array}{cc}\n",
    "\\alpha I & -\\bar{R}\\\\\n",
    "R & \\alpha I\n",
    "\\end{array}\\right)\n",
    "\\end{equation}\n",
    "where a real positive parameter $\\alpha$ and a matrix $R$ is to be determined. This form satisfies the relations {eq}`eq:coupling:symplectic4_det` and {eq}`eq:coupling:symplectic4_cross` automatically. The constrain from third Eq. in {eq}`eq:coupling:symplectic4_det` requires\n",
    "\n",
    ":::{math}\n",
    ":label: eq:coupling:r_determinant_1\n",
    "\\begin{equation}\n",
    "\\alpha^2+\\det R=1 %%\\label{r_determinant_1}\n",
    "\\end{equation}\n",
    ":::\n"
   ]
  },
  {
   "cell_type": "code",
   "execution_count": 11,
   "metadata": {},
   "outputs": [
    {
     "data": {
      "image/png": "[encoded data removed]",
      "text/latex": [
       "$\\displaystyle \\left[\\begin{matrix}\\alpha^{2} M_{x} + \\bar{R} M_{y} R & - \\alpha M_{x} \\bar{R} + \\alpha \\bar{R} M_{y}\\\\- \\alpha R M_{x} + \\alpha M_{y} R & \\alpha^{2} M_{y} + R M_{x} \\bar{R}\\end{matrix}\\right]$"
      ],
      "text/plain": [
       "⎡      2                                                             ⎤\n",
       "⎢\\alpha ⋅Mₓ + \\bar{R}⋅M_y⋅R   -\\alpha⋅Mₓ⋅\\bar{R} + \\alpha⋅\\bar{R}⋅M_y⎥\n",
       "⎢                                                                    ⎥\n",
       "⎢                                         2                          ⎥\n",
       "⎣-\\alpha⋅R⋅Mₓ + \\alpha⋅M_y⋅R        \\alpha ⋅M_y + R⋅Mₓ⋅\\bar{R}       ⎦"
      ]
     },
     "execution_count": 11,
     "metadata": {},
     "output_type": "execute_result"
    }
   ],
   "source": [
    "import sympy \n",
    "sympy.init_printing(use_unicode=True)\n",
    "alpha=sympy.symbols(r\"\\alpha\")\n",
    "a=sympy.MatrixSymbol('A', 2,2)\n",
    "b=sympy.MatrixSymbol('B', 2,2)\n",
    "c=sympy.MatrixSymbol('C', 2,2)\n",
    "d=sympy.MatrixSymbol('D', 2,2)\n",
    "mx=sympy.MatrixSymbol('M_x', 2,2)\n",
    "my=sympy.MatrixSymbol('M_y', 2,2)\n",
    "r=sympy.MatrixSymbol('R', 2,2)\n",
    "rc=sympy.MatrixSymbol(r'\\bar{R}', 2,2)\n",
    "s_2=sympy.MatrixSymbol('S_2', 2,2)\n",
    "\n",
    "zero=sympy.ZeroMatrix(2,2)\n",
    "identity=sympy.Identity(2)\n",
    "Mcouple=sympy.BlockMatrix([[a,b],[c,d]])\n",
    "Mdecouple=sympy.BlockMatrix([[mx,zero],[zero,my]])\n",
    "#sympy.block_collapse(M*ss*M.T)\n",
    "U=sympy.BlockMatrix([[alpha*identity,-rc],[r,alpha*identity]])\n",
    "Uinv=sympy.BlockMatrix([[alpha*identity,rc],[-r,alpha*identity]])\n",
    "sympy.block_collapse(Uinv*Mdecouple*U)"
   ]
  },
  {
   "cell_type": "markdown",
   "metadata": {},
   "source": [
    "Therefore, the relation {eq}`eq:coupling:similarity_transformation` yields:\n",
    "\n",
    "\\begin{equation}\n",
    "\\left(\\begin{matrix}\\alpha^{2} M_{x} + \\bar{R} M_{y} R & - \\alpha M_{x} \\bar{R} + \\alpha \\bar{R} M_{y}\\\\- \\alpha R M_{x} + \\alpha M_{y} R & \\alpha^{2} M_{y} + R M_{x} \\bar{R}\\end{matrix}\\right) =\\left(\\begin{array}{cc}\n",
    "A & B\\\\\n",
    "C & D\n",
    "\\end{array}\\right)\n",
    "\\end{equation}\n",
    "\n",
    "From the relation for $B$ and $C$, we reach:\n",
    "\n",
    ":::{math}\n",
    ":label: eq:coupling:EDTeng1\n",
    "\\begin{equation}\n",
    "BR=\\bar{R}C %%\\label{EDTeng1}\n",
    "\\end{equation}\n",
    ":::\n",
    "\n",
    "On the other hand, the uncoupled matrix $M_x$ can be calculated from the relation of $A$ and $C$, while $M_y$ can be calculated from the relation of $B$ and $D$:\n",
    "\\begin{align}\n",
    "M_x&=A-\\frac{1}{\\alpha}\\bar{R}C=A-\\frac{1}{\\alpha}BR \\\\\n",
    "M_y&=D+\\frac{1}{\\alpha}RB\n",
    "\\end{align}\n",
    "\n",
    "Then back to the relation of $A$ and $D$ and using $BR=\\bar{R}C$, we have \n",
    "\n",
    ":::{math}\n",
    ":label: eq:coupling:EDTeng2\n",
    "\\begin{equation}\n",
    "\\alpha\\left(RA-DR\\right) = \\left(1-2\\alpha^2\\right)C %%\\label{EDTeng2}\n",
    "\\end{equation}\n",
    ":::"
   ]
  },
  {
   "cell_type": "markdown",
   "metadata": {},
   "source": [
    "Now we have to guess the form of $R$.  Using the relation of the equal determinant of $B$ and $C$, a smart solution of $R$ can be:\n",
    "\n",
    ":::{math}\n",
    ":label: eq:coupling:solution_r\n",
    "\\begin{equation}\n",
    "R=\\kappa \\left(\\bar{B}+C\\right) %%\\label{solution_r}\n",
    "\\end{equation}\n",
    ":::\n",
    "where $\\kappa$ is a real parameter to be determined. Here we have assumed $\\bar{B}+C\\ne0$, otherwise, $R$ becomes zero, which is not the desired solution when $B$ and $C$ are non zero.\n",
    "\n",
    "The relation {eq}`eq:coupling:r_determinant_1` becomes:\n",
    "\n",
    "\n",
    ":::{math}\n",
    ":label: eq:coupling:alphakappa1\n",
    "\\begin{equation}\n",
    "\\alpha^2+\\kappa^2\\left(2\\det B+\\DeclareMathOperator{\\Tr}{Tr} \\Tr(BC)\\right)=1 %%\\label{alphakappa1}\n",
    "\\end{equation}\n",
    ":::"
   ]
  },
  {
   "cell_type": "markdown",
   "metadata": {},
   "source": [
    "The uncoupled matrix $M_x$ can be written as:\n",
    "\\begin{align}\n",
    "M_x&= A-\\frac{\\kappa}{\\alpha}\\left(\\left(\\det B\\right)I +BC\\right)\\\\\n",
    "M_y&= D+\\frac{\\kappa}{\\alpha}\\left(\\left(\\det B\\right)I +CB\\right)\n",
    "\\end{align}"
   ]
  },
  {
   "cell_type": "markdown",
   "metadata": {},
   "source": [
    "\n",
    "\n",
    "Using the solution of $R$ (Eq. {eq}`eq:coupling:solution_r` ), the equation Eq. {eq}`eq:coupling:EDTeng2` becomes:\n",
    "```{math}\n",
    ":label: eq:coupling:alphakappa2\n",
    "\\begin{equation}\n",
    "\\alpha\\kappa(\\DeclareMathOperator{\\Tr}{Tr} \\Tr A-\\Tr D)=1-2\\alpha^2 \\label{alphakappa2}\n",
    "\\end{equation}\n",
    "```"
   ]
  },
  {
   "cell_type": "markdown",
   "metadata": {},
   "source": [
    "Combining Eq. {eq}`eq:coupling:alphakappa1` and Eq. {eq}`eq:coupling:alphakappa1`, we can get the equation for the ratio $\\kappa/\\alpha$.  After defining two new parameters:\n",
    "\n",
    "\\begin{align}\n",
    "\\lambda &\\equiv \\DeclareMathOperator{\\Tr}{Tr} (\\Tr A-\\Tr D)/2\\\\\n",
    "\\xi&\\equiv 2\\det B+\\DeclareMathOperator{\\Tr}{Tr} \\Tr(BC)\n",
    "\\end{align}\n",
    "\n",
    "We can solve  $\\kappa/\\alpha$ from:\n",
    "\n",
    "\\begin{equation}\n",
    "\\xi \\left(\\frac{\\kappa}{\\alpha}\\right)^2 -2 \\lambda\\left(\\frac{\\kappa}{\\alpha}\\right)-1=0\n",
    "\\end{equation}\n",
    "\n",
    "To have a real solution, we demand $\\Delta\\equiv\\lambda^2+\\xi \\ge 0$ and get the solution:\n",
    "\n",
    "\\begin{equation}\n",
    "\\frac{\\kappa}{\\alpha}=\\frac{\\lambda\\pm\\sqrt{\\Delta}}{\\xi}\n",
    "\\end{equation}\n",
    "\n",
    "Both solutions are valid. "
   ]
  },
  {
   "cell_type": "markdown",
   "metadata": {},
   "source": [
    "To ensure the coupled one-turn map is stable, we are interested in the trace of $M_x$ and $M_y$.\n",
    "\n",
    "\\begin{align}\n",
    "\\DeclareMathOperator{\\Tr}{Tr}\n",
    "\\Tr M_x&= (\\Tr A + \\Tr D)/2 \\mp \\sqrt{\\Delta}\\\\\n",
    "\\Tr M_y&= (\\Tr A + \\Tr D)/2 \\pm \\sqrt{\\Delta}\n",
    "\\end{align}\n",
    "\n",
    "Therefore we also get the stablity of 4D matrix in block form:\n",
    "\n",
    "\\begin{align}\n",
    "\\left|\\frac{\\Tr A + \\Tr D}{2} \\pm \\sqrt{\\Delta}\\right| \\lt 2\n",
    "\\end{align}"
   ]
  },
  {
   "cell_type": "markdown",
   "metadata": {},
   "source": [
    "Here is a example using FODO cell, with one quad rotating clockwise while the other quad rotate counterclockwise by same angle.  Will the FODO lattice remain stable?"
   ]
  },
  {
   "cell_type": "code",
   "execution_count": 11,
   "metadata": {},
   "outputs": [
    {
     "data": {
      "text/latex": [
       "$\\displaystyle \\left[\\begin{matrix}\\frac{5}{4} & \\frac{5 f}{2} & \\frac{5 \\sqrt{3}}{4} & \\frac{\\sqrt{3} f}{2}\\\\\\frac{3}{4 f} & \\frac{5}{4} & \\frac{\\sqrt{3}}{f} & \\frac{3 \\sqrt{3}}{4}\\\\\\frac{3 \\sqrt{3}}{4} & \\frac{\\sqrt{3} f}{2} & \\frac{5}{4} & \\frac{3 f}{2}\\\\\\frac{\\sqrt{3}}{f} & \\frac{5 \\sqrt{3}}{4} & \\frac{5}{4 f} & \\frac{5}{4}\\end{matrix}\\right]$"
      ],
      "text/plain": [
       "Matrix([\n",
       "[        5/4,       5*f/2, 5*sqrt(3)/4, sqrt(3)*f/2],\n",
       "[    3/(4*f),         5/4,   sqrt(3)/f, 3*sqrt(3)/4],\n",
       "[3*sqrt(3)/4, sqrt(3)*f/2,         5/4,       3*f/2],\n",
       "[  sqrt(3)/f, 5*sqrt(3)/4,     5/(4*f),         5/4]])"
      ]
     },
     "execution_count": 11,
     "metadata": {},
     "output_type": "execute_result"
    }
   ],
   "source": [
    "import sympy as sp\n",
    "from sympy.physics.quantum import TensorProduct\n",
    "import numpy as np\n",
    "\n",
    "def smat(dim=2):\n",
    "    s2=sp.Matrix([[0,1],[-1,0]])\n",
    "    if dim==2:\n",
    "        return s2\n",
    "    return TensorProduct(sp.eye(dim//2), s2)\n",
    "    \n",
    "def quad4d(fx, rotang=None):\n",
    "    Mq=sp.eye(4)\n",
    "    f=sp.symbols(\"f\")\n",
    "    Mq[1,0]=1/f; Mq[3,2]=-1/f\n",
    "    Mq=Mq.subs(f,fx)\n",
    "    rang=sp.symbols(r\"\\theta\")\n",
    "    if rotang is not None:\n",
    "        rot2d=sp.Matrix([[sp.cos(rang), -sp.sin(rang)],[sp.sin(rang), sp.cos(rang)]])\n",
    "        rot4d=TensorProduct(rot2d, sp.eye(2))\n",
    "        return sp.simplify(rot4d.subs(rang, -rotang)*Mq*rot4d.subs(rang, rotang))\n",
    "    \n",
    "    return Mq\n",
    "\n",
    "def drift4d(l_drift):\n",
    "    Md=sp.eye(4)\n",
    "    l=sp.symbols(\"l\")\n",
    "    Md[0,1]=l; Md[2,3]=l\n",
    "    return Md.subs(l, l_drift)\n",
    "    \n",
    "def symp_conj_2by2(m):\n",
    "    return sp.Matrix([[m[1,1], -m[0,1]],\n",
    "                     [-m[1,0], m[0,0]]\n",
    "                     ])\n",
    "def np_symp_conj_2by2(m):\n",
    "    return np.array([[m[1,1], -m[0,1]],\n",
    "                     [-m[1,0], m[0,0]]\n",
    "                     ])\n",
    "\n",
    "f=sp.symbols(\"f\")\n",
    "l=sp.symbols(\"l\")\n",
    "l=f\n",
    "rotang=sp.symbols(r\"\\theta\")\n",
    "s4=smat(4)\n",
    "FODO_rot=(quad4d(-2*f, rotang)*drift4d(l)*quad4d(f,-rotang)*drift4d(l)*quad4d(-2*f, rotang))\n",
    "#FODO_rot=(drift4d(l)*quad4d(f,0*sp.pi/4+rotang)*drift4d(l)*quad4d(-f, 0*sp.pi/4+rotang))\n",
    "FODO_rot=sp.simplify(FODO_rot.subs(rotang, sp.pi/6))\n",
    "FODO_rot"
   ]
  },
  {
   "cell_type": "code",
   "execution_count": 12,
   "metadata": {},
   "outputs": [
    {
     "data": {
      "text/latex": [
       "$\\displaystyle \\left[\\begin{matrix}\\frac{3 \\sqrt{3}}{2} & 0\\\\0 & \\frac{5 \\sqrt{3}}{2}\\end{matrix}\\right]$"
      ],
      "text/plain": [
       "Matrix([\n",
       "[3*sqrt(3)/2,           0],\n",
       "[          0, 5*sqrt(3)/2]])"
      ]
     },
     "metadata": {},
     "output_type": "display_data"
    },
    {
     "data": {
      "text/latex": [
       "$\\displaystyle \\left[\\begin{matrix}0 & - 4 f\\\\- \\frac{2}{f} & 0\\end{matrix}\\right]$"
      ],
      "text/plain": [
       "Matrix([\n",
       "[   0, -4*f],\n",
       "[-2/f,    0]])"
      ]
     },
     "metadata": {},
     "output_type": "display_data"
    },
    {
     "data": {
      "text/latex": [
       "$\\displaystyle \\frac{45}{4}$"
      ],
      "text/plain": [
       "45/4"
      ]
     },
     "metadata": {},
     "output_type": "display_data"
    },
    {
     "data": {
      "text/latex": [
       "$\\displaystyle \\frac{21}{16}$"
      ],
      "text/plain": [
       "21/16"
      ]
     },
     "metadata": {},
     "output_type": "display_data"
    },
    {
     "data": {
      "text/latex": [
       "$\\displaystyle \\frac{45}{4}$"
      ],
      "text/plain": [
       "45/4"
      ]
     },
     "metadata": {},
     "output_type": "display_data"
    },
    {
     "data": {
      "text/latex": [
       "$\\displaystyle - \\frac{2 \\sqrt{5}}{15}$"
      ],
      "text/plain": [
       "-2*sqrt(5)/15"
      ]
     },
     "metadata": {},
     "output_type": "display_data"
    }
   ],
   "source": [
    "A=FODO_rot[0:2,0:2]\n",
    "C=FODO_rot[2:,0:2]\n",
    "B=FODO_rot[0:2,2:]\n",
    "D=FODO_rot[2:,2:]\n",
    "\n",
    "\n",
    "bbarc=symp_conj_2by2(B)+C\n",
    "\n",
    "display(sp.simplify(bbarc))\n",
    "display(sp.simplify(symp_conj_2by2(A)-D))\n",
    "\n",
    "xi=sp.simplify(2*B.det()+sp.trace(B*C))\n",
    "lbd=sp.simplify((sp.trace(A)-sp.trace(D))/2)\n",
    "delta=(lbd*lbd+xi)\n",
    "display(sp.simplify(delta))\n",
    "display(B.det(), xi)\n",
    "\n",
    "k_ov_alpha=(lbd-sp.sqrt(delta))/xi\n",
    "display(k_ov_alpha)\n",
    "#M_x=A-k_ov_alpha*(B.det()*sp.eye(2)+B*C)\n",
    "#M_y=D-k_ov_alpha*(B.det()*sp.eye(2)+C*B)\n",
    "\n",
    "#trm1=(sp.trace(A)+sp.trace(D))/2+sp.sqrt(delta)\n",
    "#trm2=(sp.trace(A)+sp.trace(D))/2-sp.sqrt(delta)\n",
    "#display(sp.simplify(trm1))\n",
    "#display(sp.simplify(trm2))\n",
    "#display(sp.simplify(M_x[0,1]))\n",
    "#display(sp.simplify(M_y[0,1]))"
   ]
  },
  {
   "cell_type": "code",
   "execution_count": 10,
   "metadata": {},
   "outputs": [],
   "source": [
    "# import numpy as np\n",
    "# import matplotlib.pyplot as plt\n",
    "\n",
    "# ftrm1=sp.lambdify(rotang, trm1)\n",
    "# ftrm2=sp.lambdify(rotang, trm2)\n",
    "\n",
    "# ang=np.linspace(0,np.pi, 100)\n",
    "# tracex=ftrm1(ang)\n",
    "# tracey=ftrm2(ang)\n",
    "# fig,ax=plt.subplots()\n",
    "# ax.plot(ang, tracex, label=r'Trace of $M_x$')\n",
    "# ax.plot(ang, tracey, label=r'Trace of $M_y$')\n",
    "# plt.xticks(np.linspace(0, np.pi, 5), ['0','π/4','π/2','3π/4','π'])\n",
    "# ax.axhline(2, ls='--', color='k',alpha=0.5, )\n",
    "# ax.axhline(-2, ls='--', color='k',alpha=0.5,)\n",
    "# ax.set_xlabel(\"Rotation Angle\")\n",
    "# ax.set_ylabel(\"Trace\")\n",
    "# ax.legend(loc='best')"
   ]
  },
  {
   "cell_type": "code",
   "execution_count": null,
   "metadata": {},
   "outputs": [],
   "source": []
  },
  {
   "cell_type": "code",
   "execution_count": null,
   "metadata": {},
   "outputs": [],
   "source": []
  }
 ],
 "metadata": {
  "author": "w",
  "kernelspec": {
   "display_name": "Python 3 (ipykernel)",
   "language": "python",
   "name": "python3"
  },
  "language_info": {
   "codemirror_mode": {
    "name": "ipython",
    "version": 3
   },
   "file_extension": ".py",
   "mimetype": "text/x-python",
   "name": "python",
   "nbconvert_exporter": "python",
   "pygments_lexer": "ipython3",
   "version": "3.11.9"
  },
  "latex_envs": {
   "LaTeX_envs_menu_present": true,
   "autoclose": false,
   "autocomplete": true,
   "bibliofile": "biblio.bib",
   "cite_by": "apalike",
   "current_citInitial": 1,
   "eqLabelWithNumbers": true,
   "eqNumInitial": 1,
   "hotkeys": {
    "equation": "Ctrl-E",
    "itemize": "Ctrl-I"
   },
   "labels_anchors": false,
   "latex_user_defs": false,
   "report_style_numbering": true,
   "user_envs_cfg": false
  },
  "toc": {
   "base_numbering": 1,
   "nav_menu": {},
   "number_sections": true,
   "sideBar": true,
   "skip_h1_title": false,
   "title_cell": "Table of Contents",
   "title_sidebar": "Contents",
   "toc_cell": false,
   "toc_position": {},
   "toc_section_display": true,
   "toc_window_display": true
  }
 },
 "nbformat": 4,
 "nbformat_minor": 4
}
