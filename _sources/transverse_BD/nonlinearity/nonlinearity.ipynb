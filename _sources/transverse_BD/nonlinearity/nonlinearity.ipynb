{
 "cells": [
  {
   "cell_type": "markdown",
   "metadata": {},
   "source": [
    "# Intro to Nonlinearity"
   ]
  },
  {
   "cell_type": "markdown",
   "metadata": {},
   "source": [
    "## Single Sextrupole in a Ring"
   ]
  },
  {
   "cell_type": "markdown",
   "metadata": {},
   "source": [
    "Consider a thin sextrupole was added to an otherwise linear ring at $s_0$.  The Hill's equation will looks like:\n",
    "\n",
    "\\begin{align}\n",
    "&x''+ k_x(s) x = S (y^2 - x^2) \\delta(s-s_0)  \\\\\n",
    "&y''+ k_y(s) x = 2 S x y  \\delta(s-s_0) \n",
    "\\end{align}\n",
    "which can be derived from the Hamiltonian:\n",
    "\n",
    "\\begin{equation}\n",
    "H= \\frac{1}{2}x'^2+ \\frac{1}{2}y'^2 + \\frac{1}{2}k_x(s)x^2+\\frac{1}{2}k_y(s)y^2-\\delta(s-s_0)\\frac{S}{3}(x^3-3xy^2)\n",
    "\\end{equation}\n",
    "\n",
    "Using the transformation defined in "
   ]
  },
  {
   "cell_type": "markdown",
   "metadata": {},
   "source": []
  }
 ],
 "metadata": {
  "language_info": {
   "name": "python"
  }
 },
 "nbformat": 4,
 "nbformat_minor": 2
}
